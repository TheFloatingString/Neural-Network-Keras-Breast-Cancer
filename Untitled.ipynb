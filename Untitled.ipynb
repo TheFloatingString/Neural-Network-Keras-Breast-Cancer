{
 "cells": [
  {
   "cell_type": "markdown",
   "metadata": {},
   "source": [
    "# Diagnosing Cancer with Neural Networks in 30 Lines of Code"
   ]
  },
  {
   "cell_type": "markdown",
   "metadata": {},
   "source": [
    "Dear Reader! This is the accompanying code for an article I published on Medium at .\n",
    "\n",
    "Enjoy!"
   ]
  },
  {
   "cell_type": "markdown",
   "metadata": {},
   "source": [
    "## Import Modules"
   ]
  },
  {
   "cell_type": "code",
   "execution_count": 67,
   "metadata": {},
   "outputs": [],
   "source": [
    "import pandas as pd\n",
    "import numpy as np\n",
    "\n",
    "from sklearn.model_selection import train_test_split\n",
    "from sklearn.preprocessing import MaxAbsScaler\n",
    "\n",
    "from keras.layers import Dense\n",
    "from keras.models import Sequential\n",
    "\n",
    "import matplotlib.pyplot as plt"
   ]
  },
  {
   "cell_type": "markdown",
   "metadata": {},
   "source": [
    "## Preprocessing the Cancer Data"
   ]
  },
  {
   "cell_type": "code",
   "execution_count": 2,
   "metadata": {},
   "outputs": [],
   "source": [
    "df = pd.read_csv(\"data.csv\")"
   ]
  },
  {
   "cell_type": "code",
   "execution_count": 4,
   "metadata": {},
   "outputs": [
    {
     "data": {
      "text/plain": [
       "(569, 33)"
      ]
     },
     "execution_count": 4,
     "metadata": {},
     "output_type": "execute_result"
    }
   ],
   "source": [
    "df.shape"
   ]
  },
  {
   "cell_type": "code",
   "execution_count": 7,
   "metadata": {},
   "outputs": [
    {
     "data": {
      "text/html": [
       "<div>\n",
       "<style scoped>\n",
       "    .dataframe tbody tr th:only-of-type {\n",
       "        vertical-align: middle;\n",
       "    }\n",
       "\n",
       "    .dataframe tbody tr th {\n",
       "        vertical-align: top;\n",
       "    }\n",
       "\n",
       "    .dataframe thead th {\n",
       "        text-align: right;\n",
       "    }\n",
       "</style>\n",
       "<table border=\"1\" class=\"dataframe\">\n",
       "  <thead>\n",
       "    <tr style=\"text-align: right;\">\n",
       "      <th></th>\n",
       "      <th>id</th>\n",
       "      <th>diagnosis</th>\n",
       "      <th>radius_mean</th>\n",
       "      <th>texture_mean</th>\n",
       "      <th>perimeter_mean</th>\n",
       "      <th>area_mean</th>\n",
       "      <th>smoothness_mean</th>\n",
       "      <th>compactness_mean</th>\n",
       "      <th>concavity_mean</th>\n",
       "      <th>concave points_mean</th>\n",
       "      <th>...</th>\n",
       "      <th>texture_worst</th>\n",
       "      <th>perimeter_worst</th>\n",
       "      <th>area_worst</th>\n",
       "      <th>smoothness_worst</th>\n",
       "      <th>compactness_worst</th>\n",
       "      <th>concavity_worst</th>\n",
       "      <th>concave points_worst</th>\n",
       "      <th>symmetry_worst</th>\n",
       "      <th>fractal_dimension_worst</th>\n",
       "      <th>Unnamed: 32</th>\n",
       "    </tr>\n",
       "  </thead>\n",
       "  <tbody>\n",
       "    <tr>\n",
       "      <th>0</th>\n",
       "      <td>842302</td>\n",
       "      <td>M</td>\n",
       "      <td>17.99</td>\n",
       "      <td>10.38</td>\n",
       "      <td>122.80</td>\n",
       "      <td>1001.0</td>\n",
       "      <td>0.11840</td>\n",
       "      <td>0.27760</td>\n",
       "      <td>0.3001</td>\n",
       "      <td>0.14710</td>\n",
       "      <td>...</td>\n",
       "      <td>17.33</td>\n",
       "      <td>184.60</td>\n",
       "      <td>2019.0</td>\n",
       "      <td>0.1622</td>\n",
       "      <td>0.6656</td>\n",
       "      <td>0.7119</td>\n",
       "      <td>0.2654</td>\n",
       "      <td>0.4601</td>\n",
       "      <td>0.11890</td>\n",
       "      <td>NaN</td>\n",
       "    </tr>\n",
       "    <tr>\n",
       "      <th>1</th>\n",
       "      <td>842517</td>\n",
       "      <td>M</td>\n",
       "      <td>20.57</td>\n",
       "      <td>17.77</td>\n",
       "      <td>132.90</td>\n",
       "      <td>1326.0</td>\n",
       "      <td>0.08474</td>\n",
       "      <td>0.07864</td>\n",
       "      <td>0.0869</td>\n",
       "      <td>0.07017</td>\n",
       "      <td>...</td>\n",
       "      <td>23.41</td>\n",
       "      <td>158.80</td>\n",
       "      <td>1956.0</td>\n",
       "      <td>0.1238</td>\n",
       "      <td>0.1866</td>\n",
       "      <td>0.2416</td>\n",
       "      <td>0.1860</td>\n",
       "      <td>0.2750</td>\n",
       "      <td>0.08902</td>\n",
       "      <td>NaN</td>\n",
       "    </tr>\n",
       "    <tr>\n",
       "      <th>2</th>\n",
       "      <td>84300903</td>\n",
       "      <td>M</td>\n",
       "      <td>19.69</td>\n",
       "      <td>21.25</td>\n",
       "      <td>130.00</td>\n",
       "      <td>1203.0</td>\n",
       "      <td>0.10960</td>\n",
       "      <td>0.15990</td>\n",
       "      <td>0.1974</td>\n",
       "      <td>0.12790</td>\n",
       "      <td>...</td>\n",
       "      <td>25.53</td>\n",
       "      <td>152.50</td>\n",
       "      <td>1709.0</td>\n",
       "      <td>0.1444</td>\n",
       "      <td>0.4245</td>\n",
       "      <td>0.4504</td>\n",
       "      <td>0.2430</td>\n",
       "      <td>0.3613</td>\n",
       "      <td>0.08758</td>\n",
       "      <td>NaN</td>\n",
       "    </tr>\n",
       "    <tr>\n",
       "      <th>3</th>\n",
       "      <td>84348301</td>\n",
       "      <td>M</td>\n",
       "      <td>11.42</td>\n",
       "      <td>20.38</td>\n",
       "      <td>77.58</td>\n",
       "      <td>386.1</td>\n",
       "      <td>0.14250</td>\n",
       "      <td>0.28390</td>\n",
       "      <td>0.2414</td>\n",
       "      <td>0.10520</td>\n",
       "      <td>...</td>\n",
       "      <td>26.50</td>\n",
       "      <td>98.87</td>\n",
       "      <td>567.7</td>\n",
       "      <td>0.2098</td>\n",
       "      <td>0.8663</td>\n",
       "      <td>0.6869</td>\n",
       "      <td>0.2575</td>\n",
       "      <td>0.6638</td>\n",
       "      <td>0.17300</td>\n",
       "      <td>NaN</td>\n",
       "    </tr>\n",
       "    <tr>\n",
       "      <th>4</th>\n",
       "      <td>84358402</td>\n",
       "      <td>M</td>\n",
       "      <td>20.29</td>\n",
       "      <td>14.34</td>\n",
       "      <td>135.10</td>\n",
       "      <td>1297.0</td>\n",
       "      <td>0.10030</td>\n",
       "      <td>0.13280</td>\n",
       "      <td>0.1980</td>\n",
       "      <td>0.10430</td>\n",
       "      <td>...</td>\n",
       "      <td>16.67</td>\n",
       "      <td>152.20</td>\n",
       "      <td>1575.0</td>\n",
       "      <td>0.1374</td>\n",
       "      <td>0.2050</td>\n",
       "      <td>0.4000</td>\n",
       "      <td>0.1625</td>\n",
       "      <td>0.2364</td>\n",
       "      <td>0.07678</td>\n",
       "      <td>NaN</td>\n",
       "    </tr>\n",
       "  </tbody>\n",
       "</table>\n",
       "<p>5 rows × 33 columns</p>\n",
       "</div>"
      ],
      "text/plain": [
       "         id diagnosis  radius_mean  texture_mean  perimeter_mean  area_mean  \\\n",
       "0    842302         M        17.99         10.38          122.80     1001.0   \n",
       "1    842517         M        20.57         17.77          132.90     1326.0   \n",
       "2  84300903         M        19.69         21.25          130.00     1203.0   \n",
       "3  84348301         M        11.42         20.38           77.58      386.1   \n",
       "4  84358402         M        20.29         14.34          135.10     1297.0   \n",
       "\n",
       "   smoothness_mean  compactness_mean  concavity_mean  concave points_mean  \\\n",
       "0          0.11840           0.27760          0.3001              0.14710   \n",
       "1          0.08474           0.07864          0.0869              0.07017   \n",
       "2          0.10960           0.15990          0.1974              0.12790   \n",
       "3          0.14250           0.28390          0.2414              0.10520   \n",
       "4          0.10030           0.13280          0.1980              0.10430   \n",
       "\n",
       "      ...       texture_worst  perimeter_worst  area_worst  smoothness_worst  \\\n",
       "0     ...               17.33           184.60      2019.0            0.1622   \n",
       "1     ...               23.41           158.80      1956.0            0.1238   \n",
       "2     ...               25.53           152.50      1709.0            0.1444   \n",
       "3     ...               26.50            98.87       567.7            0.2098   \n",
       "4     ...               16.67           152.20      1575.0            0.1374   \n",
       "\n",
       "   compactness_worst  concavity_worst  concave points_worst  symmetry_worst  \\\n",
       "0             0.6656           0.7119                0.2654          0.4601   \n",
       "1             0.1866           0.2416                0.1860          0.2750   \n",
       "2             0.4245           0.4504                0.2430          0.3613   \n",
       "3             0.8663           0.6869                0.2575          0.6638   \n",
       "4             0.2050           0.4000                0.1625          0.2364   \n",
       "\n",
       "   fractal_dimension_worst  Unnamed: 32  \n",
       "0                  0.11890          NaN  \n",
       "1                  0.08902          NaN  \n",
       "2                  0.08758          NaN  \n",
       "3                  0.17300          NaN  \n",
       "4                  0.07678          NaN  \n",
       "\n",
       "[5 rows x 33 columns]"
      ]
     },
     "execution_count": 7,
     "metadata": {},
     "output_type": "execute_result"
    }
   ],
   "source": [
    "df.head()"
   ]
  },
  {
   "cell_type": "code",
   "execution_count": 6,
   "metadata": {},
   "outputs": [
    {
     "data": {
      "text/plain": [
       "Index(['id', 'diagnosis', 'radius_mean', 'texture_mean', 'perimeter_mean',\n",
       "       'area_mean', 'smoothness_mean', 'compactness_mean', 'concavity_mean',\n",
       "       'concave points_mean', 'symmetry_mean', 'fractal_dimension_mean',\n",
       "       'radius_se', 'texture_se', 'perimeter_se', 'area_se', 'smoothness_se',\n",
       "       'compactness_se', 'concavity_se', 'concave points_se', 'symmetry_se',\n",
       "       'fractal_dimension_se', 'radius_worst', 'texture_worst',\n",
       "       'perimeter_worst', 'area_worst', 'smoothness_worst',\n",
       "       'compactness_worst', 'concavity_worst', 'concave points_worst',\n",
       "       'symmetry_worst', 'fractal_dimension_worst', 'Unnamed: 32'],\n",
       "      dtype='object')"
      ]
     },
     "execution_count": 6,
     "metadata": {},
     "output_type": "execute_result"
    }
   ],
   "source": [
    "df.columns"
   ]
  },
  {
   "cell_type": "code",
   "execution_count": 47,
   "metadata": {},
   "outputs": [
    {
     "data": {
      "text/html": [
       "<div>\n",
       "<style scoped>\n",
       "    .dataframe tbody tr th:only-of-type {\n",
       "        vertical-align: middle;\n",
       "    }\n",
       "\n",
       "    .dataframe tbody tr th {\n",
       "        vertical-align: top;\n",
       "    }\n",
       "\n",
       "    .dataframe thead th {\n",
       "        text-align: right;\n",
       "    }\n",
       "</style>\n",
       "<table border=\"1\" class=\"dataframe\">\n",
       "  <thead>\n",
       "    <tr style=\"text-align: right;\">\n",
       "      <th></th>\n",
       "      <th>id</th>\n",
       "      <th>radius_mean</th>\n",
       "      <th>texture_mean</th>\n",
       "      <th>perimeter_mean</th>\n",
       "      <th>area_mean</th>\n",
       "      <th>smoothness_mean</th>\n",
       "      <th>compactness_mean</th>\n",
       "      <th>concavity_mean</th>\n",
       "      <th>concave points_mean</th>\n",
       "      <th>symmetry_mean</th>\n",
       "      <th>...</th>\n",
       "      <th>texture_worst</th>\n",
       "      <th>perimeter_worst</th>\n",
       "      <th>area_worst</th>\n",
       "      <th>smoothness_worst</th>\n",
       "      <th>compactness_worst</th>\n",
       "      <th>concavity_worst</th>\n",
       "      <th>concave points_worst</th>\n",
       "      <th>symmetry_worst</th>\n",
       "      <th>fractal_dimension_worst</th>\n",
       "      <th>Unnamed: 32</th>\n",
       "    </tr>\n",
       "    <tr>\n",
       "      <th>diagnosis</th>\n",
       "      <th></th>\n",
       "      <th></th>\n",
       "      <th></th>\n",
       "      <th></th>\n",
       "      <th></th>\n",
       "      <th></th>\n",
       "      <th></th>\n",
       "      <th></th>\n",
       "      <th></th>\n",
       "      <th></th>\n",
       "      <th></th>\n",
       "      <th></th>\n",
       "      <th></th>\n",
       "      <th></th>\n",
       "      <th></th>\n",
       "      <th></th>\n",
       "      <th></th>\n",
       "      <th></th>\n",
       "      <th></th>\n",
       "      <th></th>\n",
       "      <th></th>\n",
       "    </tr>\n",
       "  </thead>\n",
       "  <tbody>\n",
       "    <tr>\n",
       "      <th>B</th>\n",
       "      <td>357</td>\n",
       "      <td>357</td>\n",
       "      <td>357</td>\n",
       "      <td>357</td>\n",
       "      <td>357</td>\n",
       "      <td>357</td>\n",
       "      <td>357</td>\n",
       "      <td>357</td>\n",
       "      <td>357</td>\n",
       "      <td>357</td>\n",
       "      <td>...</td>\n",
       "      <td>357</td>\n",
       "      <td>357</td>\n",
       "      <td>357</td>\n",
       "      <td>357</td>\n",
       "      <td>357</td>\n",
       "      <td>357</td>\n",
       "      <td>357</td>\n",
       "      <td>357</td>\n",
       "      <td>357</td>\n",
       "      <td>0</td>\n",
       "    </tr>\n",
       "    <tr>\n",
       "      <th>M</th>\n",
       "      <td>212</td>\n",
       "      <td>212</td>\n",
       "      <td>212</td>\n",
       "      <td>212</td>\n",
       "      <td>212</td>\n",
       "      <td>212</td>\n",
       "      <td>212</td>\n",
       "      <td>212</td>\n",
       "      <td>212</td>\n",
       "      <td>212</td>\n",
       "      <td>...</td>\n",
       "      <td>212</td>\n",
       "      <td>212</td>\n",
       "      <td>212</td>\n",
       "      <td>212</td>\n",
       "      <td>212</td>\n",
       "      <td>212</td>\n",
       "      <td>212</td>\n",
       "      <td>212</td>\n",
       "      <td>212</td>\n",
       "      <td>0</td>\n",
       "    </tr>\n",
       "  </tbody>\n",
       "</table>\n",
       "<p>2 rows × 32 columns</p>\n",
       "</div>"
      ],
      "text/plain": [
       "            id  radius_mean  texture_mean  perimeter_mean  area_mean  \\\n",
       "diagnosis                                                              \n",
       "B          357          357           357             357        357   \n",
       "M          212          212           212             212        212   \n",
       "\n",
       "           smoothness_mean  compactness_mean  concavity_mean  \\\n",
       "diagnosis                                                      \n",
       "B                      357               357             357   \n",
       "M                      212               212             212   \n",
       "\n",
       "           concave points_mean  symmetry_mean     ...       texture_worst  \\\n",
       "diagnosis                                         ...                       \n",
       "B                          357            357     ...                 357   \n",
       "M                          212            212     ...                 212   \n",
       "\n",
       "           perimeter_worst  area_worst  smoothness_worst  compactness_worst  \\\n",
       "diagnosis                                                                     \n",
       "B                      357         357               357                357   \n",
       "M                      212         212               212                212   \n",
       "\n",
       "           concavity_worst  concave points_worst  symmetry_worst  \\\n",
       "diagnosis                                                          \n",
       "B                      357                   357             357   \n",
       "M                      212                   212             212   \n",
       "\n",
       "           fractal_dimension_worst  Unnamed: 32  \n",
       "diagnosis                                        \n",
       "B                              357            0  \n",
       "M                              212            0  \n",
       "\n",
       "[2 rows x 32 columns]"
      ]
     },
     "execution_count": 47,
     "metadata": {},
     "output_type": "execute_result"
    }
   ],
   "source": [
    "df.groupby('diagnosis').count()"
   ]
  },
  {
   "cell_type": "code",
   "execution_count": 15,
   "metadata": {},
   "outputs": [
    {
     "data": {
      "text/plain": [
       "id                         False\n",
       "diagnosis                  False\n",
       "radius_mean                False\n",
       "texture_mean               False\n",
       "perimeter_mean             False\n",
       "area_mean                  False\n",
       "smoothness_mean            False\n",
       "compactness_mean           False\n",
       "concavity_mean             False\n",
       "concave points_mean        False\n",
       "symmetry_mean              False\n",
       "fractal_dimension_mean     False\n",
       "radius_se                  False\n",
       "texture_se                 False\n",
       "perimeter_se               False\n",
       "area_se                    False\n",
       "smoothness_se              False\n",
       "compactness_se             False\n",
       "concavity_se               False\n",
       "concave points_se          False\n",
       "symmetry_se                False\n",
       "fractal_dimension_se       False\n",
       "radius_worst               False\n",
       "texture_worst              False\n",
       "perimeter_worst            False\n",
       "area_worst                 False\n",
       "smoothness_worst           False\n",
       "compactness_worst          False\n",
       "concavity_worst            False\n",
       "concave points_worst       False\n",
       "symmetry_worst             False\n",
       "fractal_dimension_worst    False\n",
       "Unnamed: 32                 True\n",
       "dtype: bool"
      ]
     },
     "execution_count": 15,
     "metadata": {},
     "output_type": "execute_result"
    }
   ],
   "source": [
    "df.isnull().any()"
   ]
  },
  {
   "cell_type": "code",
   "execution_count": 9,
   "metadata": {},
   "outputs": [
    {
     "data": {
      "text/plain": [
       "array(['B', 'M'], dtype=object)"
      ]
     },
     "execution_count": 9,
     "metadata": {},
     "output_type": "execute_result"
    }
   ],
   "source": [
    "np.unique(df['diagnosis'])"
   ]
  },
  {
   "cell_type": "code",
   "execution_count": 23,
   "metadata": {},
   "outputs": [],
   "source": [
    "y = []\n",
    "for item in df['diagnosis']:\n",
    "    if item == 'B':\n",
    "        y.append(0)\n",
    "    if item == 'M':\n",
    "        y.append(1)"
   ]
  },
  {
   "cell_type": "code",
   "execution_count": 161,
   "metadata": {},
   "outputs": [],
   "source": [
    "df_train = df.drop(['id', 'diagnosis', 'Unnamed: 32'], axis=1)"
   ]
  },
  {
   "cell_type": "markdown",
   "metadata": {},
   "source": [
    "Scaling data:"
   ]
  },
  {
   "cell_type": "code",
   "execution_count": 162,
   "metadata": {},
   "outputs": [],
   "source": [
    "scaler = MaxAbsScaler()\n",
    "scaler.fit(df_train)\n",
    "df_train = scaler.fit_transform(df_train)"
   ]
  },
  {
   "cell_type": "code",
   "execution_count": 165,
   "metadata": {},
   "outputs": [
    {
     "name": "stdout",
     "output_type": "stream",
     "text": [
      "max 1.0\n",
      "min 0.0\n"
     ]
    }
   ],
   "source": [
    "print(\"max\", df_train.max())\n",
    "print(\"min\", df_train.min())"
   ]
  },
  {
   "cell_type": "markdown",
   "metadata": {},
   "source": [
    "Splitting data into training and testing groups"
   ]
  },
  {
   "cell_type": "code",
   "execution_count": 130,
   "metadata": {},
   "outputs": [],
   "source": [
    "X_train, X_test, y_train, y_test = train_test_split(df_train, y, test_size=0.2)"
   ]
  },
  {
   "cell_type": "markdown",
   "metadata": {},
   "source": [
    "## Coding our Neural Network"
   ]
  },
  {
   "cell_type": "code",
   "execution_count": 131,
   "metadata": {
    "scrolled": true
   },
   "outputs": [
    {
     "name": "stdout",
     "output_type": "stream",
     "text": [
      "Train on 318 samples, validate on 137 samples\n",
      "Epoch 1/40\n",
      "318/318 [==============================] - 4s 12ms/step - loss: 0.6805 - acc: 0.5755 - val_loss: 0.6812 - val_acc: 0.5766\n",
      "Epoch 2/40\n",
      "318/318 [==============================] - 1s 4ms/step - loss: 0.6492 - acc: 0.6447 - val_loss: 0.6876 - val_acc: 0.5766\n",
      "Epoch 3/40\n",
      "318/318 [==============================] - 1s 4ms/step - loss: 0.6418 - acc: 0.6447 - val_loss: 0.6911 - val_acc: 0.5766\n",
      "Epoch 4/40\n",
      "318/318 [==============================] - 1s 4ms/step - loss: 0.6365 - acc: 0.6447 - val_loss: 0.6688 - val_acc: 0.5766\n",
      "Epoch 5/40\n",
      "318/318 [==============================] - 1s 4ms/step - loss: 0.6207 - acc: 0.6447 - val_loss: 0.6492 - val_acc: 0.5766\n",
      "Epoch 6/40\n",
      "318/318 [==============================] - 1s 4ms/step - loss: 0.5949 - acc: 0.6447 - val_loss: 0.6210 - val_acc: 0.5766\n",
      "Epoch 7/40\n",
      "318/318 [==============================] - 1s 4ms/step - loss: 0.5563 - acc: 0.6509 - val_loss: 0.5621 - val_acc: 0.5839\n",
      "Epoch 8/40\n",
      "318/318 [==============================] - 1s 4ms/step - loss: 0.4939 - acc: 0.7421 - val_loss: 0.4794 - val_acc: 0.8321\n",
      "Epoch 9/40\n",
      "318/318 [==============================] - 1s 4ms/step - loss: 0.4160 - acc: 0.8962 - val_loss: 0.3959 - val_acc: 0.9051\n",
      "Epoch 10/40\n",
      "318/318 [==============================] - 1s 4ms/step - loss: 0.3399 - acc: 0.9214 - val_loss: 0.3171 - val_acc: 0.9416\n",
      "Epoch 11/40\n",
      "318/318 [==============================] - 1s 4ms/step - loss: 0.2764 - acc: 0.9277 - val_loss: 0.2573 - val_acc: 0.9270\n",
      "Epoch 12/40\n",
      "318/318 [==============================] - 2s 5ms/step - loss: 0.2303 - acc: 0.9434 - val_loss: 0.2212 - val_acc: 0.9270\n",
      "Epoch 13/40\n",
      "318/318 [==============================] - 1s 4ms/step - loss: 0.2015 - acc: 0.9371 - val_loss: 0.1919 - val_acc: 0.9343\n",
      "Epoch 14/40\n",
      "318/318 [==============================] - 1s 4ms/step - loss: 0.1862 - acc: 0.9465 - val_loss: 0.1764 - val_acc: 0.9416\n",
      "Epoch 15/40\n",
      "318/318 [==============================] - 1s 4ms/step - loss: 0.1724 - acc: 0.9434 - val_loss: 0.1683 - val_acc: 0.9343\n",
      "Epoch 16/40\n",
      "318/318 [==============================] - 1s 4ms/step - loss: 0.1636 - acc: 0.9434 - val_loss: 0.1605 - val_acc: 0.9270\n",
      "Epoch 17/40\n",
      "318/318 [==============================] - 1s 4ms/step - loss: 0.1602 - acc: 0.9465 - val_loss: 0.1558 - val_acc: 0.9343\n",
      "Epoch 18/40\n",
      "318/318 [==============================] - 1s 4ms/step - loss: 0.1567 - acc: 0.9497 - val_loss: 0.1536 - val_acc: 0.9416\n",
      "Epoch 19/40\n",
      "318/318 [==============================] - 1s 4ms/step - loss: 0.1503 - acc: 0.9528 - val_loss: 0.1506 - val_acc: 0.9343\n",
      "Epoch 20/40\n",
      "318/318 [==============================] - 1s 4ms/step - loss: 0.1504 - acc: 0.9465 - val_loss: 0.1501 - val_acc: 0.9343\n",
      "Epoch 21/40\n",
      "318/318 [==============================] - 1s 4ms/step - loss: 0.1457 - acc: 0.9465 - val_loss: 0.1669 - val_acc: 0.9489\n",
      "Epoch 22/40\n",
      "318/318 [==============================] - 1s 4ms/step - loss: 0.1483 - acc: 0.9497 - val_loss: 0.1518 - val_acc: 0.9343\n",
      "Epoch 23/40\n",
      "318/318 [==============================] - 1s 4ms/step - loss: 0.1444 - acc: 0.9497 - val_loss: 0.1533 - val_acc: 0.9343\n",
      "Epoch 24/40\n",
      "318/318 [==============================] - 1s 4ms/step - loss: 0.1403 - acc: 0.9497 - val_loss: 0.1463 - val_acc: 0.9343\n",
      "Epoch 25/40\n",
      "318/318 [==============================] - 1s 4ms/step - loss: 0.1398 - acc: 0.9528 - val_loss: 0.1464 - val_acc: 0.9416\n",
      "Epoch 26/40\n",
      "318/318 [==============================] - 1s 4ms/step - loss: 0.1391 - acc: 0.9497 - val_loss: 0.1471 - val_acc: 0.9343\n",
      "Epoch 27/40\n",
      "318/318 [==============================] - 1s 4ms/step - loss: 0.1397 - acc: 0.9560 - val_loss: 0.1456 - val_acc: 0.9343\n",
      "Epoch 28/40\n",
      "318/318 [==============================] - 1s 4ms/step - loss: 0.1365 - acc: 0.9528 - val_loss: 0.1470 - val_acc: 0.9343\n",
      "Epoch 29/40\n",
      "318/318 [==============================] - 1s 5ms/step - loss: 0.1348 - acc: 0.9654 - val_loss: 0.1595 - val_acc: 0.9343\n",
      "Epoch 30/40\n",
      "318/318 [==============================] - 1s 4ms/step - loss: 0.1367 - acc: 0.9560 - val_loss: 0.1458 - val_acc: 0.9343\n",
      "Epoch 31/40\n",
      "318/318 [==============================] - 1s 4ms/step - loss: 0.1362 - acc: 0.9528 - val_loss: 0.1459 - val_acc: 0.9343\n",
      "Epoch 32/40\n",
      "318/318 [==============================] - 1s 4ms/step - loss: 0.1313 - acc: 0.9654 - val_loss: 0.1506 - val_acc: 0.9343\n",
      "Epoch 33/40\n",
      "318/318 [==============================] - 1s 5ms/step - loss: 0.1369 - acc: 0.9591 - val_loss: 0.1480 - val_acc: 0.9343\n",
      "Epoch 34/40\n",
      "318/318 [==============================] - 1s 4ms/step - loss: 0.1351 - acc: 0.9560 - val_loss: 0.1463 - val_acc: 0.9343\n",
      "Epoch 35/40\n",
      "318/318 [==============================] - 1s 4ms/step - loss: 0.1350 - acc: 0.9497 - val_loss: 0.1440 - val_acc: 0.9343\n",
      "Epoch 36/40\n",
      "318/318 [==============================] - 1s 4ms/step - loss: 0.1318 - acc: 0.9528 - val_loss: 0.1452 - val_acc: 0.9343\n",
      "Epoch 37/40\n",
      "318/318 [==============================] - 1s 4ms/step - loss: 0.1276 - acc: 0.9560 - val_loss: 0.1443 - val_acc: 0.9343\n",
      "Epoch 38/40\n",
      "318/318 [==============================] - 1s 4ms/step - loss: 0.1305 - acc: 0.9528 - val_loss: 0.1479 - val_acc: 0.9343\n",
      "Epoch 39/40\n",
      "318/318 [==============================] - 1s 4ms/step - loss: 0.1264 - acc: 0.9686 - val_loss: 0.1421 - val_acc: 0.9343\n",
      "Epoch 40/40\n",
      "318/318 [==============================] - 1s 4ms/step - loss: 0.1225 - acc: 0.9528 - val_loss: 0.1597 - val_acc: 0.9562\n"
     ]
    }
   ],
   "source": [
    "model = Sequential()\n",
    "model.add(Dense(16, input_dim=len(df_train[0]), activation='sigmoid'))\n",
    "model.add(Dense(8, activation='sigmoid'))\n",
    "model.add(Dense(8, activation='sigmoid'))\n",
    "model.add(Dense(1, activation='sigmoid'))\n",
    "model.compile(loss='binary_crossentropy', optimizer='rmsprop', metrics=['accuracy'])\n",
    "hist = model.fit(X_train, y_train, batch_size=1, epochs=40, validation_split=.3)"
   ]
  },
  {
   "cell_type": "code",
   "execution_count": 141,
   "metadata": {},
   "outputs": [
    {
     "data": {
      "image/png": "[encoded data removed]",
      "text/plain": [
       "<matplotlib.figure.Figure at 0x1ec3a36eb00>"
      ]
     },
     "metadata": {},
     "output_type": "display_data"
    }
   ],
   "source": [
    "plt.plot(hist.history['acc'], label='Training accuracy')\n",
    "plt.plot(hist.history['val_acc'], label='Validation accuracy')\n",
    "plt.xlabel(\"Epoch\")\n",
    "plt.ylabel(\"Accuracy\")\n",
    "plt.legend()\n",
    "plt.xlim(0,40)\n",
    "plt.ylim(0.5,1)\n",
    "plt.title(\"Neural Network Accuracy\")\n",
    "plt.savefig(\"accuracy\", dpi=500)\n",
    "plt.show()\n"
   ]
  },
  {
   "cell_type": "code",
   "execution_count": 143,
   "metadata": {},
   "outputs": [
    {
     "data": {
      "image/png": "[encoded data removed]",
      "text/plain": [
       "<matplotlib.figure.Figure at 0x1ec3faedf98>"
      ]
     },
     "metadata": {},
     "output_type": "display_data"
    }
   ],
   "source": [
    "plt.plot(hist.history['loss'], label='Training loss')\n",
    "plt.plot(hist.history['val_loss'], label='Validation loss')\n",
    "plt.xlabel(\"Epoch\")\n",
    "plt.ylabel(\"Loss\")\n",
    "plt.legend()\n",
    "plt.xlim(0,40)\n",
    "plt.ylim(0,1)\n",
    "plt.title(\"Neural Network Loss\")\n",
    "plt.savefig(\"loss.png\", dpi=500)\n",
    "plt.show()\n"
   ]
  },
  {
   "cell_type": "code",
   "execution_count": 91,
   "metadata": {},
   "outputs": [],
   "source": [
    "model.save('model.h5')"
   ]
  },
  {
   "cell_type": "markdown",
   "metadata": {},
   "source": [
    "## Reusing our Neural Network"
   ]
  },
  {
   "cell_type": "code",
   "execution_count": 157,
   "metadata": {},
   "outputs": [
    {
     "name": "stdout",
     "output_type": "stream",
     "text": [
      "114/114 [==============================] - 0s 136us/step\n",
      "Accuracy: 0.9122806975716039 %\n"
     ]
    }
   ],
   "source": [
    "model.load_weights('model.h5')\n",
    "acc = model.evaluate(X_test, y_test)\n",
    "print(\"Accuracy: \"+str(acc[1])+' %')"
   ]
  },
  {
   "cell_type": "code",
   "execution_count": 154,
   "metadata": {},
   "outputs": [
    {
     "name": "stdout",
     "output_type": "stream",
     "text": [
      "Prediction\tValidation\n",
      "0.768\t\t1\n",
      "0.997\t\t1\n",
      "0.003\t\t0\n",
      "0.759\t\t1\n",
      "0.959\t\t1\n",
      "0.003\t\t0\n",
      "0.024\t\t0\n",
      "0.003\t\t0\n",
      "0.541\t\t1\n",
      "0.051\t\t1\n"
     ]
    }
   ],
   "source": [
    "pred = model.predict_proba(X_test[0:10])\n",
    "print(\"Prediction\\tValidation\")\n",
    "for prediction, answer in zip(pred, y_test[0:10]):\n",
    "    print(str(round(prediction[0],3))+'\\t\\t'+str(answer))"
   ]
  },
  {
   "cell_type": "code",
   "execution_count": 159,
   "metadata": {},
   "outputs": [
    {
     "name": "stdout",
     "output_type": "stream",
     "text": [
      "Prediction\tValidation\n",
      "1\t\t1\n",
      "1\t\t1\n",
      "0\t\t0\n",
      "1\t\t1\n",
      "1\t\t1\n",
      "0\t\t0\n",
      "0\t\t0\n",
      "0\t\t0\n",
      "1\t\t1\n",
      "0\t\t1\n"
     ]
    }
   ],
   "source": [
    "pred = model.predict_classes(X_test[0:10])\n",
    "print(\"Prediction\\tValidation\")\n",
    "for prediction, answer in zip(pred, y_test[0:10]):\n",
    "    print(str(round(prediction[0],3))+'\\t\\t'+str(answer))"
   ]
  }
 ],
 "metadata": {
  "kernelspec": {
   "display_name": "Python 3",
   "language": "python",
   "name": "python3"
  },
  "language_info": {
   "codemirror_mode": {
    "name": "ipython",
    "version": 3
   },
   "file_extension": ".py",
   "mimetype": "text/x-python",
   "name": "python",
   "nbconvert_exporter": "python",
   "pygments_lexer": "ipython3",
   "version": "3.6.4"
  }
 },
 "nbformat": 4,
 "nbformat_minor": 2
}
